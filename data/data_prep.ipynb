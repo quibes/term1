{
 "cells": [
  {
   "cell_type": "code",
   "execution_count": 17,
   "metadata": {},
   "outputs": [
    {
     "name": "stdout",
     "output_type": "stream",
     "text": [
      "Data cleaning completed. Cleaned files saved to specified output paths.\n"
     ]
    }
   ],
   "source": [
    "import pandas as pd\n",
    "\n",
    "def clean_olist_order_reviews(input_path, output_path):\n",
    "\n",
    "    df = pd.read_csv(input_path)\n",
    "\n",
    "    # Convert 'review_score' to numeric, setting invalid values to NaN\n",
    "    df['review_score'] = pd.to_numeric(df['review_score'], errors='coerce')\n",
    "\n",
    "    # Convert 'review_creation_date' and 'review_answer_timestamp' to datetime\n",
    "    df['review_creation_date'] = pd.to_datetime(df['review_creation_date'], errors='coerce')\n",
    "    df['review_answer_timestamp'] = pd.to_datetime(df['review_answer_timestamp'], errors='coerce')\n",
    "\n",
    "    # Remove any carriage return characters\n",
    "    df.replace({'\\r': ''}, regex=True, inplace=True)\n",
    "\n",
    "    # Save cleaned data\n",
    "    df.to_csv(output_path, index=False, header=False)  # Save without headers\n",
    "\n",
    "\n",
    "\n",
    "def clean_olist_order_items(input_path, output_path):\n",
    "    # Load the data\n",
    "    df = pd.read_csv(input_path)\n",
    "\n",
    "    # Convert 'order_item_id' to integer, setting invalid values to NaN\n",
    "    df['order_item_id'] = pd.to_numeric(df['order_item_id'], errors='coerce')\n",
    "    # Convert 'price' and 'freight_value' to float, setting invalid values to NaN\n",
    "    df['price'] = pd.to_numeric(df['price'], errors='coerce')\n",
    "    df['shipping_limit_date'] = pd.to_datetime(df['shipping_limit_date'], errors='coerce')\n",
    "\n",
    "    df.dropna(subset=['shipping_limit_date', 'price'], inplace=True)\n",
    "    df['freight_value'] = pd.to_numeric(df['freight_value'], errors='coerce')\n",
    "    df.drop(columns=['shipping_limit_date'], inplace=True)\n",
    "\n",
    "    # Drop any rows with more data than there are columns\n",
    "    df = df[df.columns[:len(df.columns)]]\n",
    "\n",
    "    # Save cleaned data\n",
    "    df.to_csv(output_path, index=False, header=False)  # Save without headers\n",
    "\n",
    "\n",
    "\n",
    "\n",
    "def clean_olist_order_payments(input_path, output_path):\n",
    "    # Load the data\n",
    "    df = pd.read_csv(input_path)\n",
    "\n",
    "    # Convert 'payment_sequential' and 'payment_installments' to integer, setting invalid values to NaN\n",
    "    df['payment_sequential'] = pd.to_numeric(df['payment_sequential'], errors='coerce')\n",
    "    df['payment_installments'] = pd.to_numeric(df['payment_installments'], errors='coerce')\n",
    "\n",
    "    # Convert 'payment_value' to float, setting invalid values to NaN\n",
    "    df['payment_value'] = pd.to_numeric(df['payment_value'], errors='coerce')\n",
    "\n",
    "    # Save cleaned data\n",
    "    df.to_csv(output_path, index=False, header=False)  # Save without headers\n",
    "\n",
    "\n",
    "# Paths to the input files and output cleaned files\n",
    "input_paths = {\n",
    "    'reviews': '/Users/anastasyarussu/Downloads/archive/olist_order_reviews_dataset.csv',\n",
    "    'items': '/Users/anastasyarussu/Downloads/archive/olist_order_items_dataset.csv',\n",
    "    'payments': '/Users/anastasyarussu/Downloads/archive/olist_order_payments_dataset.csv',\n",
    "}\n",
    "\n",
    "output_paths = {\n",
    "    'reviews': '/Users/anastasyarussu/Downloads/archive/olist_order_reviews_dataset_cleaned.csv',\n",
    "    'items': '/Users/anastasyarussu/Downloads/archive/olist_order_items_dataset_cleaned.csv',\n",
    "    'payments': '/Users/anastasyarussu/Downloads/archive/olist_order_payments_dataset_cleaned.csv',\n",
    "}\n",
    "\n",
    "# Run cleaning functions for each file\n",
    "clean_olist_order_reviews(input_paths['reviews'], output_paths['reviews'])\n",
    "clean_olist_order_items(input_paths['items'], output_paths['items'])\n",
    "clean_olist_order_payments(input_paths['payments'], output_paths['payments'])\n",
    "\n",
    "print(\"Data cleaning completed. Cleaned files saved to specified output paths.\")\n"
   ]
  }
 ],
 "metadata": {
  "kernelspec": {
   "display_name": "Python 3",
   "language": "python",
   "name": "python3"
  },
  "language_info": {
   "codemirror_mode": {
    "name": "ipython",
    "version": 3
   },
   "file_extension": ".py",
   "mimetype": "text/x-python",
   "name": "python",
   "nbconvert_exporter": "python",
   "pygments_lexer": "ipython3",
   "version": "3.9.6"
  }
 },
 "nbformat": 4,
 "nbformat_minor": 2
}
